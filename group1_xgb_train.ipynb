{
 "cells": [
  {
   "cell_type": "code",
   "execution_count": 5,
   "metadata": {},
   "outputs": [],
   "source": [
    "import pandas as pd\n",
    "import numpy as np\n",
    "import lightgbm as lgb\n",
    "import xgboost as xgb\n",
    "import sklearn\n",
    "import pickle\n",
    "import matplotlib.pyplot as plt\n",
    "from sklearn.utils import shuffle\n",
    "from sklearn.model_selection import train_test_split, cross_val_score\n",
    "from sklearn.metrics import accuracy_score, roc_auc_score, confusion_matrix\n",
    "from sklearn.utils import shuffle\n",
    "from sklearn.svm import SVC\n",
    "from itertools import product\n",
    "\n",
    "pd.options.display.max_rows = 1000\n",
    "\n",
    "def xgbGridSearchCV(data, parameter, cv = 5):\n",
    "\n",
    "    grid_param = dict()\n",
    "    model_param = dict()\n",
    "\n",
    "\n",
    "    ## grid search combination\n",
    "    for key,values in  parameter.items():\n",
    "        if type(values) is list:\n",
    "            grid_param[key] = values\n",
    "        else:\n",
    "            model_param[key] = values\n",
    "\n",
    "    perm = [dict(zip(grid_param, v)) for v in product(*grid_param.values())]\n",
    "\n",
    "    result = list()\n",
    "    \n",
    "    ## CV\n",
    "    for item in perm:\n",
    "        temp = dict()\n",
    "        temp.update(model_param)\n",
    "        temp.update(item)\n",
    "        cv_result = xgb.cv(temp, data, num_boost_round=20000, nfold=5,early_stopping_rounds=100)\n",
    "        print(cv_result)\n",
    "        \n",
    "        \n",
    "        score = list(cv_result['test-auc-mean'])[-1]\n",
    "        item.update({\"score\":score})\n",
    "        result.append(item)\n",
    "        \n",
    "    return result\n"
   ]
  },
  {
   "cell_type": "code",
   "execution_count": 2,
   "metadata": {},
   "outputs": [],
   "source": [
    "def cap30(xgbresult):\n",
    "    \n",
    "    df = xgbresult[['y_pred','y']].sort_values(by=['y_pred'])\n",
    "    df = xgbresult[['y_pred','y']].sort_values(by=['y_pred'])\n",
    "    total_y = (df['y']==1).astype(int).sum()\n",
    "    num_y = (df.iloc[int(df.shape[0]*0.7):]['y']==1).astype(int).sum()\n",
    "    \n",
    "    return num_y/total_y\n",
    "\n",
    "def cap10(xgbresult):\n",
    "    \n",
    "    df = xgbresult[['y_pred','y']].sort_values(by=['y_pred'])\n",
    "    df = xgbresult[['y_pred','y']].sort_values(by=['y_pred'])\n",
    "    total_y = (df['y']==1).astype(int).sum()\n",
    "    num_y = (df.iloc[int(df.shape[0]*0.9):]['y']==1).astype(int).sum()\n",
    "    \n",
    "    return num_y/total_y"
   ]
  },
  {
   "cell_type": "code",
   "execution_count": 4,
   "metadata": {},
   "outputs": [],
   "source": [
    "x_1803 = pd.read_hdf('../group1_1803.h5', key='all', mode='r')\n",
    "drop = [x for x in x_1803.columns if \"age\" in x[:4]]\n",
    "x_1803 = x_1803.drop(columns = drop)\n",
    "id_1803 = pd.read_hdf('../group1_1803.h5', key='id', mode='r')\n",
    "y_1803 = pd.read_hdf('../group1_1803.h5', key='y', mode='r')\n",
    "\n",
    "\n",
    "x_1806 = pd.read_hdf('../group1_1806.h5', key='all', mode='r')\n",
    "drop = [x for x in x_1806.columns if \"age\" in x[:4]]\n",
    "x_1806 = x_1806.drop(columns = drop)\n",
    "id_1806 = pd.read_hdf('../group1_1806.h5', key='id', mode='r')\n",
    "y_1806 = pd.read_hdf('../group1_1806.h5', key='y', mode='r')\n",
    "\n",
    "x_1809 = pd.read_hdf('../group1_1809.h5', key='all', mode='r')\n",
    "drop = [x for x in x_1809.columns if \"age\" in x[:4]]\n",
    "x_1809 = x_1809.drop(columns = drop)\n",
    "id_1809 = pd.read_hdf('../group1_1809.h5', key='id', mode='r')\n",
    "y_1809 = pd.read_hdf('../group1_1809.h5', key='y', mode='r')\n",
    "\n",
    "\n",
    "y_1803 = y_1803.apply(lambda x : 1 if x!=0 else 0)\n",
    "y_1806 = y_1806.apply(lambda x : 1 if x!=0 else 0)\n"
   ]
  },
  {
   "cell_type": "code",
   "execution_count": 6,
   "metadata": {},
   "outputs": [],
   "source": [
    "x_1803 = pd.read_hdf('../group1_1803.h5', key='all', mode='r')"
   ]
  },
  {
   "cell_type": "code",
   "execution_count": 7,
   "metadata": {},
   "outputs": [
    {
     "data": {
      "text/plain": [
       "(171867, 483)"
      ]
     },
     "execution_count": 7,
     "metadata": {},
     "output_type": "execute_result"
    }
   ],
   "source": [
    "x_1803.shape"
   ]
  },
  {
   "cell_type": "code",
   "execution_count": 8,
   "metadata": {},
   "outputs": [],
   "source": [
    "s_x_1803 = pd.read_hdf('../s1_1803.h5', key='all', mode='r')"
   ]
  },
  {
   "cell_type": "code",
   "execution_count": 9,
   "metadata": {},
   "outputs": [
    {
     "data": {
      "text/plain": [
       "(171867, 684)"
      ]
     },
     "execution_count": 9,
     "metadata": {},
     "output_type": "execute_result"
    }
   ],
   "source": [
    "s_x_1803.shape"
   ]
  },
  {
   "cell_type": "code",
   "execution_count": 5,
   "metadata": {},
   "outputs": [],
   "source": [
    "s_x_1803 = pd.read_hdf('../s1_1803.h5', key='all', mode='r')\n",
    "s_id_1803 = pd.read_hdf('../s1_1803.h5', key='id', mode='r')\n",
    "s_y_1803 = pd.read_hdf('../s1_1803.h5', key='y', mode='r')\n",
    "\n",
    "s_x_1806 = pd.read_hdf('../s1_1806.h5', key='all', mode='r')\n",
    "s_id_1806 = pd.read_hdf('../s1_1806.h5', key='id', mode='r')\n",
    "s_y_1806 = pd.read_hdf('../s1_1806.h5', key='y', mode='r')\n",
    "\n",
    "s_x_1809 = pd.read_hdf('../s1_1809.h5', key='all', mode='r')\n",
    "s_id_1809 = pd.read_hdf('../s1_1809.h5', key='id', mode='r')\n",
    "s_y_1809 = pd.read_hdf('../s1_1809.h5', key='y', mode='r')"
   ]
  },
  {
   "cell_type": "code",
   "execution_count": 6,
   "metadata": {},
   "outputs": [],
   "source": [
    "x_1803['enc_customer_id'] = id_1803\n",
    "x_1806['enc_customer_id'] = id_1806\n",
    "x_1809['enc_customer_id'] = id_1809\n",
    "\n",
    "s_x_1803['enc_customer_id'] = s_id_1803\n",
    "s_x_1806['enc_customer_id'] = s_id_1806\n",
    "s_x_1809['enc_customer_id'] = s_id_1809"
   ]
  },
  {
   "cell_type": "code",
   "execution_count": 7,
   "metadata": {},
   "outputs": [],
   "source": [
    "x_1803_total = pd.merge(x_1803, s_x_1803, how=\"left\", on='enc_customer_id')\n",
    "x_1806_total = pd.merge(x_1806, s_x_1806, how=\"left\", on='enc_customer_id')\n",
    "x_1809_total = pd.merge(x_1809, s_x_1809, how=\"left\", on='enc_customer_id')"
   ]
  },
  {
   "cell_type": "code",
   "execution_count": 8,
   "metadata": {},
   "outputs": [
    {
     "name": "stderr",
     "output_type": "stream",
     "text": [
      "/home/aiuser01/anaconda3/lib/python3.6/site-packages/ipykernel_launcher.py:1: FutureWarning: Sorting because non-concatenation axis is not aligned. A future version\n",
      "of pandas will change to not sort by default.\n",
      "\n",
      "To accept the future behavior, pass 'sort=True'.\n",
      "\n",
      "To retain the current behavior and silence the warning, pass sort=False\n",
      "\n",
      "  \"\"\"Entry point for launching an IPython kernel.\n"
     ]
    }
   ],
   "source": [
    "x_train = pd.concat([x_1803_total, x_1806_total, x_1809_total], ignore_index=True)\n",
    "y_train = pd.concat([y_1803, y_1806, s_y_1809], ignore_index=True)\n",
    "x_train = x_train.drop(columns = ['enc_customer_id'])"
   ]
  },
  {
   "cell_type": "code",
   "execution_count": 2,
   "metadata": {},
   "outputs": [],
   "source": [
    "feature = ['JCIC_M_BANKCNT_MEAN_L12',\n",
    " 'ever_mor',\n",
    " 'ever_submor',\n",
    " 'JC_224',\n",
    " 'M_Loan_Amt_MEAN_L12',\n",
    " 'ctbc_finmortgage_amt_max_3Y',\n",
    " 'READ_PCA_11_MEAN_L3',\n",
    " 'SAPBPT',\n",
    " 'cnt_of_membe',\n",
    " 'nums_cust_grade_max_3Y_08',\n",
    " 'Read_hour4_GROW_3M',\n",
    " 'TAKE_AMT_L1_DP_PERCENT',\n",
    " 'READ_CLASS_23_MEAN_L3',\n",
    " 'MEAN_GIVE_LOAN_AMT_L1',\n",
    " 'READ_CLASS_11_L1',\n",
    " 'JC_266',\n",
    " 'M_Loan_Amt_ESTMEAN_L12',\n",
    " 'JC_244',\n",
    " 'Click_hour4_MEAN_L3',\n",
    " 'TARG_Scorecard_Type_Code_TARGTERM',\n",
    " 'SUM_PERM_LIMIT_GROW_12M',\n",
    " 'READ_PCA_17_L0',\n",
    " 'Employment_Year',\n",
    " 'nums_appl_cnt_10Y',\n",
    " 'MAX_Retail_Balance_GROW_3M',\n",
    " 'READ_CLASS_18_GROW_3M',\n",
    " 'SUM_PERM_LIMIT_NEWBETA_3M',\n",
    " 'CATMcntD6M',\n",
    " 'jcic_fm_bankcnt_3Y',\n",
    " 'JC_199',\n",
    " 'JC_085',\n",
    " 'nums_cust_grade_max_3Y_Mis',\n",
    " 'READ_PCA_17_MEAN_L3',\n",
    " 'READ_PCA_20_L0',\n",
    " 'KBamt',\n",
    " 'JCIC_M_BANKCNT_ESTMEAN_L12',\n",
    " 'JC_195',\n",
    " 'jcic_mortgage_amt_sum_3Y',\n",
    " 'sum_of_house_SPEND_PAY',\n",
    " 'M_Loan_Amt_BETA_3M',\n",
    " 'SUM_PERM_LIMIT_MEAN_L3',\n",
    " 'SUM_OTHER_AMT_NEWBETA_12M',\n",
    " 'SAPBamt',\n",
    " 'READ_CLASS_17_GROW_3M',\n",
    " 'READ_PCA_6_GROW_3M',\n",
    " 'TAKE_AMT_L3_DP_PERCENT',\n",
    " 'MIN_JCIC_URATE_EST3M_L0',\n",
    " 'CLICK_FREQ_MEAN_L3',\n",
    " 'JC_303',\n",
    " 'Loan_Amt_BETA_3M']"
   ]
  },
  {
   "cell_type": "code",
   "execution_count": 11,
   "metadata": {},
   "outputs": [
    {
     "data": {
      "text/plain": [
       "50"
      ]
     },
     "execution_count": 11,
     "metadata": {},
     "output_type": "execute_result"
    }
   ],
   "source": [
    "len(feature)"
   ]
  },
  {
   "cell_type": "code",
   "execution_count": 16,
   "metadata": {},
   "outputs": [],
   "source": [
    "param = {\n",
    "    'objective': 'binary:logistic',\n",
    "    'max_depth' : 4,\n",
    "    'eval_metric':'auc',\n",
    "    'nthread': 4,\n",
    "    'eta': 0.1\n",
    "}"
   ]
  },
  {
   "cell_type": "code",
   "execution_count": 32,
   "metadata": {},
   "outputs": [
    {
     "data": {
      "text/plain": [
       "(524991, 1179)"
      ]
     },
     "execution_count": 32,
     "metadata": {},
     "output_type": "execute_result"
    }
   ],
   "source": [
    "x_train.shape"
   ]
  },
  {
   "cell_type": "code",
   "execution_count": 13,
   "metadata": {},
   "outputs": [
    {
     "data": {
      "text/plain": [
       "(524991,)"
      ]
     },
     "execution_count": 13,
     "metadata": {},
     "output_type": "execute_result"
    }
   ],
   "source": [
    "y_train.shape"
   ]
  },
  {
   "cell_type": "code",
   "execution_count": 39,
   "metadata": {},
   "outputs": [
    {
     "name": "stderr",
     "output_type": "stream",
     "text": [
      "/home/aiuser01/anaconda3/lib/python3.6/site-packages/xgboost-0.83.dev0-py3.6.egg/xgboost/core.py:591: FutureWarning: Series.base is deprecated and will be removed in a future version\n",
      "  if getattr(data, 'base', None) is not None and \\\n"
     ]
    }
   ],
   "source": [
    "x_train_fold, x_test_fold, y_train_fold, y_test_fold = train_test_split(x_train[feature], y_train,test_size = 0.2,stratify = y_train, random_state = 1255)\n",
    "dtrain = xgb.DMatrix(x_train[feature], y_train)\n",
    "dtest = xgb.DMatrix(x_test_fold, y_test_fold)"
   ]
  },
  {
   "cell_type": "code",
   "execution_count": 40,
   "metadata": {},
   "outputs": [
    {
     "name": "stdout",
     "output_type": "stream",
     "text": [
      "[0]\ttrain-auc:0.761524\teval-auc:0.767273\n",
      "Multiple eval metrics have been passed: 'eval-auc' will be used for early stopping.\n",
      "\n",
      "Will train until eval-auc hasn't improved in 50 rounds.\n",
      "[1]\ttrain-auc:0.766503\teval-auc:0.772352\n",
      "[2]\ttrain-auc:0.769909\teval-auc:0.777531\n",
      "[3]\ttrain-auc:0.771439\teval-auc:0.779348\n",
      "[4]\ttrain-auc:0.771418\teval-auc:0.779339\n",
      "[5]\ttrain-auc:0.772293\teval-auc:0.779893\n",
      "[6]\ttrain-auc:0.772665\teval-auc:0.780011\n",
      "[7]\ttrain-auc:0.77288\teval-auc:0.780129\n",
      "[8]\ttrain-auc:0.776775\teval-auc:0.786267\n",
      "[9]\ttrain-auc:0.777471\teval-auc:0.786892\n",
      "[10]\ttrain-auc:0.777425\teval-auc:0.786857\n",
      "[11]\ttrain-auc:0.777633\teval-auc:0.787128\n",
      "[12]\ttrain-auc:0.777895\teval-auc:0.787363\n",
      "[13]\ttrain-auc:0.778288\teval-auc:0.787622\n",
      "[14]\ttrain-auc:0.778924\teval-auc:0.787942\n",
      "[15]\ttrain-auc:0.778876\teval-auc:0.788292\n",
      "[16]\ttrain-auc:0.78055\teval-auc:0.789805\n",
      "[17]\ttrain-auc:0.780727\teval-auc:0.789829\n",
      "[18]\ttrain-auc:0.781057\teval-auc:0.789755\n",
      "[19]\ttrain-auc:0.781289\teval-auc:0.790132\n",
      "[20]\ttrain-auc:0.781654\teval-auc:0.79081\n",
      "[21]\ttrain-auc:0.781738\teval-auc:0.79054\n",
      "[22]\ttrain-auc:0.781728\teval-auc:0.79061\n",
      "[23]\ttrain-auc:0.781824\teval-auc:0.790713\n",
      "[24]\ttrain-auc:0.781856\teval-auc:0.790629\n",
      "[25]\ttrain-auc:0.781993\teval-auc:0.790939\n",
      "[26]\ttrain-auc:0.781993\teval-auc:0.790981\n",
      "[27]\ttrain-auc:0.781934\teval-auc:0.790923\n",
      "[28]\ttrain-auc:0.782\teval-auc:0.790928\n",
      "[29]\ttrain-auc:0.782147\teval-auc:0.791029\n",
      "[30]\ttrain-auc:0.782219\teval-auc:0.79086\n",
      "[31]\ttrain-auc:0.78227\teval-auc:0.790981\n",
      "[32]\ttrain-auc:0.783403\teval-auc:0.790976\n",
      "[33]\ttrain-auc:0.783463\teval-auc:0.79128\n",
      "[34]\ttrain-auc:0.783496\teval-auc:0.791436\n",
      "[35]\ttrain-auc:0.78362\teval-auc:0.7916\n",
      "[36]\ttrain-auc:0.784859\teval-auc:0.793529\n",
      "[37]\ttrain-auc:0.785021\teval-auc:0.793735\n",
      "[38]\ttrain-auc:0.785314\teval-auc:0.794034\n",
      "[39]\ttrain-auc:0.785555\teval-auc:0.794374\n",
      "[40]\ttrain-auc:0.785783\teval-auc:0.794497\n",
      "[41]\ttrain-auc:0.785937\teval-auc:0.794716\n",
      "[42]\ttrain-auc:0.786023\teval-auc:0.794881\n",
      "[43]\ttrain-auc:0.786306\teval-auc:0.795081\n",
      "[44]\ttrain-auc:0.786685\teval-auc:0.795492\n",
      "[45]\ttrain-auc:0.786881\teval-auc:0.795748\n",
      "[46]\ttrain-auc:0.787175\teval-auc:0.796092\n",
      "[47]\ttrain-auc:0.787585\teval-auc:0.796418\n",
      "[48]\ttrain-auc:0.787804\teval-auc:0.79668\n",
      "[49]\ttrain-auc:0.788372\teval-auc:0.797617\n",
      "[50]\ttrain-auc:0.788607\teval-auc:0.797757\n",
      "[51]\ttrain-auc:0.789053\teval-auc:0.798159\n",
      "[52]\ttrain-auc:0.789331\teval-auc:0.79829\n",
      "[53]\ttrain-auc:0.790711\teval-auc:0.800195\n",
      "[54]\ttrain-auc:0.791223\teval-auc:0.800634\n",
      "[55]\ttrain-auc:0.791577\teval-auc:0.801025\n",
      "[56]\ttrain-auc:0.791993\teval-auc:0.801509\n",
      "[57]\ttrain-auc:0.792554\teval-auc:0.801518\n",
      "[58]\ttrain-auc:0.792769\teval-auc:0.801542\n",
      "[59]\ttrain-auc:0.793199\teval-auc:0.801995\n",
      "[60]\ttrain-auc:0.793528\teval-auc:0.802277\n",
      "[61]\ttrain-auc:0.793724\teval-auc:0.802434\n",
      "[62]\ttrain-auc:0.794005\teval-auc:0.802797\n",
      "[63]\ttrain-auc:0.794524\teval-auc:0.803316\n",
      "[64]\ttrain-auc:0.794655\teval-auc:0.803406\n",
      "[65]\ttrain-auc:0.794967\teval-auc:0.803565\n",
      "[66]\ttrain-auc:0.795363\teval-auc:0.80383\n",
      "[67]\ttrain-auc:0.795644\teval-auc:0.804051\n",
      "[68]\ttrain-auc:0.795925\teval-auc:0.804264\n",
      "[69]\ttrain-auc:0.796107\teval-auc:0.804314\n",
      "[70]\ttrain-auc:0.796282\teval-auc:0.804612\n",
      "[71]\ttrain-auc:0.796742\teval-auc:0.804813\n",
      "[72]\ttrain-auc:0.79702\teval-auc:0.805131\n",
      "[73]\ttrain-auc:0.797188\teval-auc:0.805278\n",
      "[74]\ttrain-auc:0.797532\teval-auc:0.805768\n",
      "[75]\ttrain-auc:0.797648\teval-auc:0.805901\n",
      "[76]\ttrain-auc:0.797837\teval-auc:0.806147\n",
      "[77]\ttrain-auc:0.798014\teval-auc:0.806417\n",
      "[78]\ttrain-auc:0.798169\teval-auc:0.806669\n",
      "[79]\ttrain-auc:0.798413\teval-auc:0.806849\n"
     ]
    }
   ],
   "source": [
    "watchlist = [(dtrain, 'train'), (dtest, 'eval')]\n",
    "model = xgb.train(param, dtrain, evals = watchlist, num_boost_round = 80, early_stopping_rounds = 50)"
   ]
  },
  {
   "cell_type": "code",
   "execution_count": 67,
   "metadata": {},
   "outputs": [],
   "source": [
    "# with open(\"group1_xgb.pkl\",\"wb\") as f:\n",
    "#     pickle.dump(model,f)"
   ]
  },
  {
   "cell_type": "code",
   "execution_count": 5,
   "metadata": {},
   "outputs": [],
   "source": [
    "with open(\"group1_xgb.pkl\",\"rb\") as f:\n",
    "    model = pickle.load(f)"
   ]
  },
  {
   "cell_type": "code",
   "execution_count": 42,
   "metadata": {},
   "outputs": [],
   "source": [
    "x_1712 = pd.read_hdf('../group1_1712.h5', key='all', mode='r')\n",
    "id_1712 = pd.read_hdf('../group1_1712.h5', key='id', mode='r')\n",
    "y_1712 = pd.read_hdf('../group1_1712.h5', key='y', mode='r')\n",
    "\n",
    "y_1712 = y_1712.apply(lambda x : 1 if x!=0 else 0)\n",
    "\n",
    "s_x_1712 = pd.read_hdf('../s1_1712.h5', key='all', mode='r')\n",
    "s_id_1712 = pd.read_hdf('../s1_1712.h5', key='id', mode='r')\n",
    "\n",
    "x_1712['enc_customer_id'] = id_1712\n",
    "s_x_1712['enc_customer_id'] = s_id_1712\n",
    "x_1712_total = pd.merge(x_1712, s_x_1712, how=\"left\", on='enc_customer_id')"
   ]
  },
  {
   "cell_type": "code",
   "execution_count": 47,
   "metadata": {},
   "outputs": [
    {
     "name": "stdout",
     "output_type": "stream",
     "text": [
      "0.6006286861944883\n",
      "cap30: 0.7608695652173914\n"
     ]
    }
   ],
   "source": [
    "x_1712_total['READ_PCA_11_MEAN_L3']=0\n",
    "pred = model.predict(xgb.DMatrix(x_1712_total[feature]))\n",
    "print(roc_auc_score(y_1712, pred)*2-1)\n",
    "# d = {'y_binary': y_1803, 'score_100': pred}\n",
    "# df = pd.DataFrame(data=d)\n",
    "# print(gini_calculate(df))\n",
    "d = {'y': y_1712, 'y_pred': pred}\n",
    "df = pd.DataFrame(data=d)\n",
    "print(\"cap30:\", cap30(df))"
   ]
  },
  {
   "cell_type": "code",
   "execution_count": 51,
   "metadata": {},
   "outputs": [],
   "source": [
    "x_1803 = pd.read_hdf('../group1_1803.h5', key='all', mode='r')\n",
    "id_1803 = pd.read_hdf('../group1_1803.h5', key='id', mode='r')\n",
    "y_1803 = pd.read_hdf('../group1_1803.h5', key='y', mode='r')\n",
    "\n",
    "y_1803 = y_1803.apply(lambda x : 1 if x!=0 else 0)\n",
    "\n",
    "s_x_1803 = pd.read_hdf('../s1_1803.h5', key='all', mode='r')\n",
    "s_id_1803 = pd.read_hdf('../s1_1803.h5', key='id', mode='r')\n",
    "\n",
    "x_1803['enc_customer_id'] = id_1803\n",
    "s_x_1803['enc_customer_id'] = s_id_1803\n",
    "x_1803_total = pd.merge(x_1803, s_x_1803, how=\"left\", on='enc_customer_id')\n"
   ]
  },
  {
   "cell_type": "code",
   "execution_count": 53,
   "metadata": {},
   "outputs": [
    {
     "name": "stdout",
     "output_type": "stream",
     "text": [
      "0.5959333489537677\n",
      "cap30: 0.7710894446799491\n"
     ]
    }
   ],
   "source": [
    "x_1803_total['READ_PCA_11_MEAN_L3']=0\n",
    "x_1803_total['READ_CLASS_23_MEAN_L3']=0\n",
    "x_1803_total['READ_PCA_17_L0']=0\n",
    "x_1803_total['READ_PCA_17_MEAN_L3']=0\n",
    "x_1803_total['READ_CLASS_17_GROW_3M']=0\n",
    "\n",
    "pred = model.predict(xgb.DMatrix(x_1803_total[feature]))\n",
    "print(roc_auc_score(y_1803, pred)*2-1)\n",
    "# d = {'y_binary': y_1803, 'score_100': pred}\n",
    "# df = pd.DataFrame(data=d)\n",
    "# print(gini_calculate(df))\n",
    "d = {'y': y_1803, 'y_pred': pred}\n",
    "df = pd.DataFrame(data=d)\n",
    "print(\"cap30:\", cap30(df))"
   ]
  },
  {
   "cell_type": "code",
   "execution_count": 54,
   "metadata": {},
   "outputs": [],
   "source": [
    "x_1806 = pd.read_hdf('../group1_1806.h5', key='all', mode='r')\n",
    "id_1806 = pd.read_hdf('../group1_1806.h5', key='id', mode='r')\n",
    "y_1806 = pd.read_hdf('../group1_1806.h5', key='y', mode='r')\n",
    "\n",
    "y_1806 = y_1806.apply(lambda x : 1 if x!=0 else 0)\n",
    "\n",
    "s_x_1806 = pd.read_hdf('../s1_1806.h5', key='all', mode='r')\n",
    "s_id_1806 = pd.read_hdf('../s1_1806.h5', key='id', mode='r')\n",
    "\n",
    "x_1806['enc_customer_id'] = id_1806\n",
    "s_x_1806['enc_customer_id'] = s_id_1806\n",
    "x_1806_total = pd.merge(x_1806, s_x_1806, how=\"left\", on='enc_customer_id')"
   ]
  },
  {
   "cell_type": "code",
   "execution_count": 57,
   "metadata": {},
   "outputs": [
    {
     "name": "stdout",
     "output_type": "stream",
     "text": [
      "0.5871325301340737\n",
      "cap30: 0.7579313342025207\n"
     ]
    }
   ],
   "source": [
    "x_1806_total['READ_CLASS_23_MEAN_L3']=0\n",
    "x_1806_total['READ_CLASS_17_GROW_3M']=0\n",
    "\n",
    "\n",
    "pred = model.predict(xgb.DMatrix(x_1806_total[feature]))\n",
    "print(roc_auc_score(y_1806, pred)*2-1)\n",
    "# d = {'y_binary': y_1803, 'score_100': pred}\n",
    "# df = pd.DataFrame(data=d)\n",
    "# print(gini_calculate(df))\n",
    "d = {'y': y_1806, 'y_pred': pred}\n",
    "df = pd.DataFrame(data=d)\n",
    "print(\"cap30:\", cap30(df))"
   ]
  },
  {
   "cell_type": "code",
   "execution_count": 61,
   "metadata": {},
   "outputs": [],
   "source": [
    "x_1809 = pd.read_hdf('../group1_1809.h5', key='all', mode='r')\n",
    "id_1809 = pd.read_hdf('../group1_1809.h5', key='id', mode='r')\n",
    "y_1809 = pd.read_hdf('../group1_1809.h5', key='y', mode='r')\n",
    "\n",
    "y_1809 = y_1809.apply(lambda x : 1 if x!=0 else 0)\n",
    "\n",
    "s_x_1809 = pd.read_hdf('../s1_1809.h5', key='all', mode='r')\n",
    "s_id_1809 = pd.read_hdf('../s1_1809.h5', key='id', mode='r')\n",
    "s_y_1809 = pd.read_hdf('../s1_1809.h5', key='y', mode='r')\n",
    "\n",
    "x_1809['enc_customer_id'] = id_1809\n",
    "s_x_1809['enc_customer_id'] = s_id_1809\n",
    "x_1809_total = pd.merge(x_1809, s_x_1809, how=\"left\", on='enc_customer_id')\n",
    "\n",
    "\n"
   ]
  },
  {
   "cell_type": "code",
   "execution_count": 62,
   "metadata": {},
   "outputs": [
    {
     "name": "stdout",
     "output_type": "stream",
     "text": [
      "0.6012339956954948\n",
      "cap30: 0.762080073630925\n"
     ]
    }
   ],
   "source": [
    "x_1809_total['READ_PCA_17_L0']=0\n",
    "x_1809_total['READ_PCA_6_GROW_3M']=0\n",
    "\n",
    "\n",
    "pred = model.predict(xgb.DMatrix(x_1809_total[feature]))\n",
    "print(roc_auc_score(s_y_1809, pred)*2-1)\n",
    "# d = {'y_binary': y_1803, 'score_100': pred}\n",
    "# df = pd.DataFrame(data=d)\n",
    "# print(gini_calculate(df))\n",
    "d = {'y': s_y_1809, 'y_pred': pred}\n",
    "df = pd.DataFrame(data=d)\n",
    "print(\"cap30:\", cap30(df))"
   ]
  },
  {
   "cell_type": "code",
   "execution_count": 63,
   "metadata": {},
   "outputs": [],
   "source": [
    "x_1812 = pd.read_hdf('../group1_1812.h5', key='all', mode='r')\n",
    "id_1812 = pd.read_hdf('../group1_1812.h5', key='id', mode='r')\n",
    "y_1812 = pd.read_hdf('../group1_1812.h5', key='y', mode='r')\n",
    "\n",
    "y_1812 = y_1812.apply(lambda x : 1 if x!=0 else 0)\n",
    "\n",
    "s_x_1812 = pd.read_hdf('../s1_1812.h5', key='all', mode='r')\n",
    "s_id_1812 = pd.read_hdf('../s1_1812.h5', key='id', mode='r')\n",
    "s_y_1812 = pd.read_hdf('../s1_1812.h5', key='y', mode='r')\n",
    "\n",
    "x_1812['enc_customer_id'] = id_1812\n",
    "s_x_1812['enc_customer_id'] = s_id_1812\n",
    "x_1812_total = pd.merge(x_1812, s_x_1812, how=\"left\", on='enc_customer_id')\n"
   ]
  },
  {
   "cell_type": "code",
   "execution_count": 66,
   "metadata": {},
   "outputs": [
    {
     "name": "stdout",
     "output_type": "stream",
     "text": [
      "0.6349131495629499\n",
      "cap30: 0.8056049822064056\n"
     ]
    }
   ],
   "source": [
    "x_1812_total['READ_PCA_17_L0']=0\n",
    "pred = model.predict(xgb.DMatrix(x_1812_total[feature]))\n",
    "print(roc_auc_score(s_y_1812, pred)*2-1)\n",
    "# d = {'y_binary': y_1803, 'score_100': pred}\n",
    "# df = pd.DataFrame(data=d)\n",
    "# print(gini_calculate(df))\n",
    "d = {'y': s_y_1812, 'y_pred': pred}\n",
    "df = pd.DataFrame(data=d)\n",
    "print(\"cap30:\", cap30(df))"
   ]
  },
  {
   "cell_type": "markdown",
   "metadata": {},
   "source": [
    "## score table"
   ]
  },
  {
   "cell_type": "code",
   "execution_count": 3,
   "metadata": {},
   "outputs": [],
   "source": [
    "x_1712 = pd.read_hdf('../group1_1712.h5', key='all', mode='r')\n",
    "id_1712 = pd.read_hdf('../group1_1712.h5', key='id', mode='r')\n",
    "y_1712 = pd.read_hdf('../group1_1712.h5', key='y', mode='r')\n",
    "\n",
    "y_1712 = y_1712.apply(lambda x : 1 if x!=0 else 0)\n",
    "\n",
    "s_x_1712 = pd.read_hdf('../s1_1712.h5', key='all', mode='r')\n",
    "s_id_1712 = pd.read_hdf('../s1_1712.h5', key='id', mode='r')\n",
    "\n",
    "x_1712['enc_customer_id'] = id_1712\n",
    "s_x_1712['enc_customer_id'] = s_id_1712\n",
    "x_1712_total = pd.merge(x_1712, s_x_1712, how=\"left\", on='enc_customer_id')"
   ]
  },
  {
   "cell_type": "code",
   "execution_count": 6,
   "metadata": {},
   "outputs": [],
   "source": [
    "x_1712_total['READ_PCA_11_MEAN_L3']=0\n",
    "pred = model.predict(xgb.DMatrix(x_1712_total[feature]))"
   ]
  },
  {
   "cell_type": "code",
   "execution_count": 7,
   "metadata": {},
   "outputs": [],
   "source": [
    "d = {'y': y_1712, 'y_pred': pred}\n",
    "xgbresult = pd.DataFrame(data=d)\n",
    "xgbresult = xgbresult.sort_values(by='y_pred',ascending=False).reset_index(drop=True)\n",
    "xgbresult['score_100'] =  np.round(xgbresult['y_pred']*100)  \n",
    "scoringtable = xgbresult[['y','score_100']].pivot_table(index='score_100', columns='y', aggfunc=len, fill_value=0)\n",
    "scoringtable['goodrate'] = scoringtable[1]/(scoringtable[0]+scoringtable[1])\n",
    "bins = [-0.001, 0.001, 0.002, 0.005, 0.01, 0.02, 0.03, 0.04, 0.05, 0.06,\n",
    "           0.07, 0.08, 0.10, 0.12, 0.14, 0.16, 0.18, 0.2, 0.25, 0.3, 1.1]\n",
    "labels = [1,2,3,4,5,6,7,8,9,10,11,12,13,14,15,16,17,18,19,20]\n",
    "scoringtable['score'] = pd.cut(scoringtable['goodrate'], bins=bins, labels=labels)    \n",
    "scoringtable =scoringtable.reset_index()[['score_100','score']]"
   ]
  },
  {
   "cell_type": "code",
   "execution_count": 9,
   "metadata": {},
   "outputs": [],
   "source": [
    "scoringtable.to_csv('scoringtable_group1_xgb.csv', index = False)"
   ]
  },
  {
   "cell_type": "code",
   "execution_count": 8,
   "metadata": {},
   "outputs": [
    {
     "data": {
      "text/html": [
       "<div>\n",
       "<style scoped>\n",
       "    .dataframe tbody tr th:only-of-type {\n",
       "        vertical-align: middle;\n",
       "    }\n",
       "\n",
       "    .dataframe tbody tr th {\n",
       "        vertical-align: top;\n",
       "    }\n",
       "\n",
       "    .dataframe thead th {\n",
       "        text-align: right;\n",
       "    }\n",
       "</style>\n",
       "<table border=\"1\" class=\"dataframe\">\n",
       "  <thead>\n",
       "    <tr style=\"text-align: right;\">\n",
       "      <th>y</th>\n",
       "      <th>score_100</th>\n",
       "      <th>score</th>\n",
       "    </tr>\n",
       "  </thead>\n",
       "  <tbody>\n",
       "    <tr>\n",
       "      <th>0</th>\n",
       "      <td>0.0</td>\n",
       "      <td>3</td>\n",
       "    </tr>\n",
       "    <tr>\n",
       "      <th>1</th>\n",
       "      <td>1.0</td>\n",
       "      <td>4</td>\n",
       "    </tr>\n",
       "    <tr>\n",
       "      <th>2</th>\n",
       "      <td>2.0</td>\n",
       "      <td>5</td>\n",
       "    </tr>\n",
       "    <tr>\n",
       "      <th>3</th>\n",
       "      <td>3.0</td>\n",
       "      <td>6</td>\n",
       "    </tr>\n",
       "    <tr>\n",
       "      <th>4</th>\n",
       "      <td>4.0</td>\n",
       "      <td>8</td>\n",
       "    </tr>\n",
       "    <tr>\n",
       "      <th>5</th>\n",
       "      <td>5.0</td>\n",
       "      <td>9</td>\n",
       "    </tr>\n",
       "    <tr>\n",
       "      <th>6</th>\n",
       "      <td>6.0</td>\n",
       "      <td>9</td>\n",
       "    </tr>\n",
       "    <tr>\n",
       "      <th>7</th>\n",
       "      <td>7.0</td>\n",
       "      <td>12</td>\n",
       "    </tr>\n",
       "    <tr>\n",
       "      <th>8</th>\n",
       "      <td>8.0</td>\n",
       "      <td>12</td>\n",
       "    </tr>\n",
       "    <tr>\n",
       "      <th>9</th>\n",
       "      <td>9.0</td>\n",
       "      <td>12</td>\n",
       "    </tr>\n",
       "    <tr>\n",
       "      <th>10</th>\n",
       "      <td>10.0</td>\n",
       "      <td>13</td>\n",
       "    </tr>\n",
       "    <tr>\n",
       "      <th>11</th>\n",
       "      <td>11.0</td>\n",
       "      <td>13</td>\n",
       "    </tr>\n",
       "    <tr>\n",
       "      <th>12</th>\n",
       "      <td>12.0</td>\n",
       "      <td>13</td>\n",
       "    </tr>\n",
       "    <tr>\n",
       "      <th>13</th>\n",
       "      <td>13.0</td>\n",
       "      <td>17</td>\n",
       "    </tr>\n",
       "    <tr>\n",
       "      <th>14</th>\n",
       "      <td>14.0</td>\n",
       "      <td>1</td>\n",
       "    </tr>\n",
       "    <tr>\n",
       "      <th>15</th>\n",
       "      <td>15.0</td>\n",
       "      <td>1</td>\n",
       "    </tr>\n",
       "    <tr>\n",
       "      <th>16</th>\n",
       "      <td>16.0</td>\n",
       "      <td>20</td>\n",
       "    </tr>\n",
       "    <tr>\n",
       "      <th>17</th>\n",
       "      <td>17.0</td>\n",
       "      <td>1</td>\n",
       "    </tr>\n",
       "    <tr>\n",
       "      <th>18</th>\n",
       "      <td>19.0</td>\n",
       "      <td>1</td>\n",
       "    </tr>\n",
       "    <tr>\n",
       "      <th>19</th>\n",
       "      <td>20.0</td>\n",
       "      <td>1</td>\n",
       "    </tr>\n",
       "    <tr>\n",
       "      <th>20</th>\n",
       "      <td>21.0</td>\n",
       "      <td>1</td>\n",
       "    </tr>\n",
       "    <tr>\n",
       "      <th>21</th>\n",
       "      <td>22.0</td>\n",
       "      <td>1</td>\n",
       "    </tr>\n",
       "    <tr>\n",
       "      <th>22</th>\n",
       "      <td>23.0</td>\n",
       "      <td>1</td>\n",
       "    </tr>\n",
       "    <tr>\n",
       "      <th>23</th>\n",
       "      <td>29.0</td>\n",
       "      <td>1</td>\n",
       "    </tr>\n",
       "  </tbody>\n",
       "</table>\n",
       "</div>"
      ],
      "text/plain": [
       "y   score_100 score\n",
       "0         0.0     3\n",
       "1         1.0     4\n",
       "2         2.0     5\n",
       "3         3.0     6\n",
       "4         4.0     8\n",
       "5         5.0     9\n",
       "6         6.0     9\n",
       "7         7.0    12\n",
       "8         8.0    12\n",
       "9         9.0    12\n",
       "10       10.0    13\n",
       "11       11.0    13\n",
       "12       12.0    13\n",
       "13       13.0    17\n",
       "14       14.0     1\n",
       "15       15.0     1\n",
       "16       16.0    20\n",
       "17       17.0     1\n",
       "18       19.0     1\n",
       "19       20.0     1\n",
       "20       21.0     1\n",
       "21       22.0     1\n",
       "22       23.0     1\n",
       "23       29.0     1"
      ]
     },
     "execution_count": 8,
     "metadata": {},
     "output_type": "execute_result"
    }
   ],
   "source": [
    "scoringtable"
   ]
  },
  {
   "cell_type": "code",
   "execution_count": 10,
   "metadata": {},
   "outputs": [
    {
     "data": {
      "text/plain": [
       "0    166316\n",
       "1      2024\n",
       "Name: SEC_Y_3M, dtype: int64"
      ]
     },
     "execution_count": 10,
     "metadata": {},
     "output_type": "execute_result"
    }
   ],
   "source": [
    "y_1712.value_counts()"
   ]
  },
  {
   "cell_type": "code",
   "execution_count": null,
   "metadata": {},
   "outputs": [],
   "source": []
  }
 ],
 "metadata": {
  "kernelspec": {
   "display_name": "Python 3",
   "language": "python",
   "name": "python3"
  },
  "language_info": {
   "codemirror_mode": {
    "name": "ipython",
    "version": 3
   },
   "file_extension": ".py",
   "mimetype": "text/x-python",
   "name": "python",
   "nbconvert_exporter": "python",
   "pygments_lexer": "ipython3",
   "version": "3.6.7"
  }
 },
 "nbformat": 4,
 "nbformat_minor": 2
}
